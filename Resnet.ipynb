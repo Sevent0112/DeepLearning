{
 "cells": [
  {
   "cell_type": "markdown",
   "id": "144a3d17",
   "metadata": {},
   "source": [
    "# 重载data.Dataset类"
   ]
  },
  {
   "cell_type": "code",
   "execution_count": 8,
   "id": "68eec816",
   "metadata": {},
   "outputs": [],
   "source": [
    "import torch\n",
    "from torch import nn\n",
    "from torch.utils import data\n",
    "from torch.utils.data import DataLoader\n",
    "from torchvision import datasets\n",
    "from torchvision.transforms import ToTensor, Lambda\n",
    "from torchvision import transforms"
   ]
  },
  {
   "cell_type": "code",
   "execution_count": 5,
   "id": "f84d93c6",
   "metadata": {},
   "outputs": [],
   "source": [
    "def default_loader(path):\n",
    "    return Image.open(path).convert('RGB')\n",
    "\n",
    "\n",
    "class MyDataset(data.Dataset):\n",
    "    def __init__(self, images, labels, loader=default_loader, transform=None):\n",
    "        self.images = images\n",
    "        self.labels = labels\n",
    "        self.loader = loader\n",
    "        self.transform = transform\n",
    "        \n",
    "    def __getitem__(self, index):\n",
    "        img, target = self.images[index], self.labels[index]\n",
    "        img = self.loader(img)\n",
    "        if self.transform is not None:\n",
    "            img = self.transform(img)\n",
    "        return img, target\n",
    "    \n",
    "    def __len__(self):\n",
    "        return len(self, images)"
   ]
  },
  {
   "cell_type": "code",
   "execution_count": null,
   "id": "fedf9455",
   "metadata": {},
   "outputs": [],
   "source": []
  },
  {
   "cell_type": "markdown",
   "id": "f90d7845",
   "metadata": {},
   "source": [
    "# transform数据预处理"
   ]
  },
  {
   "cell_type": "code",
   "execution_count": 9,
   "id": "195bffca",
   "metadata": {},
   "outputs": [],
   "source": [
    "transform = transforms.Compose([\n",
    "    transforms.Resize((256, 256)),  # 放缩到256*256*3\n",
    "    transforms.RandomCrop(224),   # 随机截取成224*224*3\n",
    "    transforms.ToTensor(),      # 转换为张量\n",
    "    transforms.Normalize([0.485, 0.456, 0.406], [0.229, 0.224, 0.225])   # 标准化\n",
    "])"
   ]
  },
  {
   "cell_type": "markdown",
   "id": "4c012c0d",
   "metadata": {},
   "source": [
    "# 模型构建"
   ]
  },
  {
   "cell_type": "code",
   "execution_count": null,
   "id": "75d3d942",
   "metadata": {},
   "outputs": [],
   "source": []
  }
 ],
 "metadata": {
  "kernelspec": {
   "display_name": "Python [conda env:pytorch]",
   "language": "python",
   "name": "conda-env-pytorch-py"
  },
  "language_info": {
   "codemirror_mode": {
    "name": "ipython",
    "version": 3
   },
   "file_extension": ".py",
   "mimetype": "text/x-python",
   "name": "python",
   "nbconvert_exporter": "python",
   "pygments_lexer": "ipython3",
   "version": "3.8.12"
  }
 },
 "nbformat": 4,
 "nbformat_minor": 5
}
