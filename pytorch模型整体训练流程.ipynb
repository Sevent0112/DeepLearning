{
 "cells": [
  {
   "cell_type": "markdown",
   "id": "424e0912",
   "metadata": {},
   "source": [
    "# "
   ]
  },
  {
   "cell_type": "code",
   "execution_count": 1,
   "id": "64acf28d",
   "metadata": {},
   "outputs": [],
   "source": [
    "import torch\n",
    "from torch import nn\n",
    "from torch.utils.data import DataLoader\n",
    "from torchvision import datasets\n",
    "from torchvision.transforms import ToTensor, Lambda"
   ]
  },
  {
   "cell_type": "markdown",
   "id": "94826a39",
   "metadata": {},
   "source": [
    "# 构造数据集"
   ]
  },
  {
   "cell_type": "code",
   "execution_count": 20,
   "id": "7b109c03",
   "metadata": {},
   "outputs": [
    {
     "data": {
      "text/plain": [
       "10000"
      ]
     },
     "execution_count": 20,
     "metadata": {},
     "output_type": "execute_result"
    }
   ],
   "source": [
    "train_data = datasets.FashionMNIST(\n",
    "    root = 'data',\n",
    "    train=False,\n",
    "    download=True,\n",
    "    transform=ToTensor()\n",
    ")\n",
    "\n",
    "test_data = datasets.FashionMNIST(\n",
    "    root = 'data',\n",
    "    train=False,\n",
    "    download=True,\n",
    "    transform=ToTensor()\n",
    ")\n",
    "train_dataloader = DataLoader(train_data, batch_size=64)\n",
    "test_dataloader = DataLoader(test_data, batch_size=64)\n",
    "len(train_dataloader.dataset)\n",
    "    "
   ]
  },
  {
   "cell_type": "markdown",
   "id": "d9cdbbb1",
   "metadata": {},
   "source": [
    "# 构造模型"
   ]
  },
  {
   "cell_type": "code",
   "execution_count": 7,
   "id": "a5335c19",
   "metadata": {},
   "outputs": [],
   "source": [
    "class NeuralNetwork(nn.Module):\n",
    "    def __init__(self):\n",
    "        super(NeuralNetwork, self).__init__()\n",
    "        self.flatten = nn.Flatten()  # 把张量拉成一维\n",
    "        self.linear_relu_stack = nn.Sequential(  # 有序串联各层\n",
    "            nn.Linear(28*28, 512),\n",
    "            nn.ReLU(),\n",
    "            nn.Linear(512, 512),\n",
    "            nn.ReLU(),\n",
    "            nn.Linear(512, 10),\n",
    "        )\n",
    "        \n",
    "        \n",
    "    def forward(self, x):  # 前向传播\n",
    "        x = self.flatten(x)  # 拉成一维\n",
    "        logits = self.linear_relu_stack(x)  # 传入各层网络\n",
    "        return logits\n",
    "    \n",
    "model = NeuralNetwork()"
   ]
  },
  {
   "cell_type": "markdown",
   "id": "304d3bf6",
   "metadata": {},
   "source": [
    "# 初始化超参数"
   ]
  },
  {
   "cell_type": "code",
   "execution_count": 8,
   "id": "3d808d65",
   "metadata": {},
   "outputs": [],
   "source": [
    "learning_rate = 0.03\n",
    "batch_size = 64\n",
    "epochs = 5"
   ]
  },
  {
   "cell_type": "markdown",
   "id": "1d04d386",
   "metadata": {},
   "source": [
    "# 设置目标函数（损失函数）"
   ]
  },
  {
   "cell_type": "code",
   "execution_count": 9,
   "id": "d91603bc",
   "metadata": {},
   "outputs": [],
   "source": [
    "loss = nn.CrossEntropyLoss() # 交叉熵损失函数"
   ]
  },
  {
   "cell_type": "markdown",
   "id": "0268b574",
   "metadata": {},
   "source": [
    "# 实例化优化器"
   ]
  },
  {
   "cell_type": "code",
   "execution_count": 10,
   "id": "2338c414",
   "metadata": {},
   "outputs": [],
   "source": [
    "optimizer = torch.optim.SGD(model.parameters(), lr=learning_rate)"
   ]
  },
  {
   "cell_type": "markdown",
   "id": "3c62f1b8",
   "metadata": {},
   "source": [
    "# 迭代训练"
   ]
  },
  {
   "cell_type": "code",
   "execution_count": 37,
   "id": "3256bdf4",
   "metadata": {},
   "outputs": [],
   "source": [
    "def train_loop(dataloader, model, loss_fn, optimizer):\n",
    "    size = len(dataloader.dataset)\n",
    "    for batch, (X, y) in enumerate(dataloader):\n",
    "        pred = model(X)\n",
    "        loss = loss_fn(pred, y)\n",
    "        \n",
    "        optimizer.zero_grad()\n",
    "        loss.backward()\n",
    "        optimizer.step()\n",
    "        \n",
    "        if batch%1 == 0:\n",
    "            loss, current = loss.item(), batch*len(X)\n",
    "            print(f\"loss: {loss:>7f} [{current:>5d}/{size:>5d}]\")\n",
    "            \n",
    "            \n",
    "def test_loop(dataloader, model, loss_fn):\n",
    "    size = len(dataloader.dataset)\n",
    "    num_batches = len(dataloader)\n",
    "    test_loss, correct = 0, 0\n",
    "    with torch.no_grad():\n",
    "        for X, y in dataloader:\n",
    "            pred = model(X)\n",
    "            test_loss += loss_fn(pred, y).item()\n",
    "            correct += (pred.argmax(1) == y).type(torch.float).sum().item()\n",
    "            \n",
    "    test_loss /= num_batches\n",
    "    correct /= size\n",
    "    print(f\"Test Error: \\n Accuracy:{(100*correct):>0.1f}%, Avg loss:{test_loss:>8f} \\n\")"
   ]
  },
  {
   "cell_type": "code",
   "execution_count": 33,
   "id": "b865bb0a",
   "metadata": {},
   "outputs": [
    {
     "name": "stdout",
     "output_type": "stream",
     "text": [
      "loss: 0.813222 [    0/10000]\n",
      "loss: 0.632293 [   64/10000]\n",
      "loss: 0.728785 [  128/10000]\n",
      "loss: 0.754920 [  192/10000]\n",
      "loss: 0.792984 [  256/10000]\n",
      "loss: 0.722207 [  320/10000]\n",
      "loss: 0.780400 [  384/10000]\n",
      "loss: 0.828719 [  448/10000]\n",
      "loss: 0.829875 [  512/10000]\n",
      "loss: 0.938244 [  576/10000]\n",
      "loss: 0.873184 [  640/10000]\n",
      "loss: 0.927926 [  704/10000]\n",
      "loss: 0.728541 [  768/10000]\n",
      "loss: 0.679520 [  832/10000]\n",
      "loss: 0.738410 [  896/10000]\n",
      "loss: 1.010118 [  960/10000]\n",
      "loss: 0.756108 [ 1024/10000]\n",
      "loss: 0.946450 [ 1088/10000]\n",
      "loss: 0.851804 [ 1152/10000]\n",
      "loss: 0.909548 [ 1216/10000]\n",
      "loss: 0.835413 [ 1280/10000]\n",
      "loss: 0.757265 [ 1344/10000]\n",
      "loss: 0.652469 [ 1408/10000]\n",
      "loss: 0.762982 [ 1472/10000]\n",
      "loss: 0.653425 [ 1536/10000]\n",
      "loss: 0.752175 [ 1600/10000]\n",
      "loss: 0.735354 [ 1664/10000]\n",
      "loss: 0.880963 [ 1728/10000]\n",
      "loss: 0.979222 [ 1792/10000]\n",
      "loss: 0.445720 [ 1856/10000]\n",
      "loss: 0.863897 [ 1920/10000]\n",
      "loss: 0.757107 [ 1984/10000]\n",
      "loss: 0.793199 [ 2048/10000]\n",
      "loss: 0.643542 [ 2112/10000]\n",
      "loss: 0.709025 [ 2176/10000]\n",
      "loss: 0.680466 [ 2240/10000]\n",
      "loss: 0.644844 [ 2304/10000]\n",
      "loss: 0.702289 [ 2368/10000]\n",
      "loss: 0.703832 [ 2432/10000]\n",
      "loss: 0.748618 [ 2496/10000]\n",
      "loss: 0.888138 [ 2560/10000]\n",
      "loss: 0.906836 [ 2624/10000]\n",
      "loss: 0.903371 [ 2688/10000]\n",
      "loss: 0.630115 [ 2752/10000]\n",
      "loss: 0.870603 [ 2816/10000]\n",
      "loss: 1.073535 [ 2880/10000]\n",
      "loss: 0.732997 [ 2944/10000]\n",
      "loss: 0.846344 [ 3008/10000]\n",
      "loss: 0.875337 [ 3072/10000]\n",
      "loss: 0.711783 [ 3136/10000]\n",
      "loss: 1.105959 [ 3200/10000]\n",
      "loss: 0.814620 [ 3264/10000]\n",
      "loss: 0.752808 [ 3328/10000]\n",
      "loss: 0.823843 [ 3392/10000]\n",
      "loss: 0.941491 [ 3456/10000]\n",
      "loss: 0.740840 [ 3520/10000]\n",
      "loss: 0.907107 [ 3584/10000]\n",
      "loss: 0.906626 [ 3648/10000]\n",
      "loss: 0.662524 [ 3712/10000]\n",
      "loss: 0.826663 [ 3776/10000]\n",
      "loss: 0.789165 [ 3840/10000]\n",
      "loss: 0.929329 [ 3904/10000]\n",
      "loss: 0.793575 [ 3968/10000]\n",
      "loss: 0.965942 [ 4032/10000]\n",
      "loss: 0.847521 [ 4096/10000]\n",
      "loss: 0.681367 [ 4160/10000]\n",
      "loss: 0.795396 [ 4224/10000]\n",
      "loss: 0.610431 [ 4288/10000]\n",
      "loss: 0.749048 [ 4352/10000]\n",
      "loss: 0.536041 [ 4416/10000]\n",
      "loss: 0.504151 [ 4480/10000]\n",
      "loss: 0.561961 [ 4544/10000]\n",
      "loss: 0.668748 [ 4608/10000]\n",
      "loss: 0.776528 [ 4672/10000]\n",
      "loss: 0.688074 [ 4736/10000]\n",
      "loss: 0.858126 [ 4800/10000]\n",
      "loss: 0.756337 [ 4864/10000]\n",
      "loss: 0.701052 [ 4928/10000]\n",
      "loss: 0.962999 [ 4992/10000]\n",
      "loss: 0.845965 [ 5056/10000]\n",
      "loss: 0.890283 [ 5120/10000]\n",
      "loss: 0.695568 [ 5184/10000]\n",
      "loss: 0.696721 [ 5248/10000]\n",
      "loss: 0.675492 [ 5312/10000]\n",
      "loss: 0.646344 [ 5376/10000]\n",
      "loss: 0.899455 [ 5440/10000]\n",
      "loss: 0.909898 [ 5504/10000]\n",
      "loss: 0.926371 [ 5568/10000]\n",
      "loss: 0.760582 [ 5632/10000]\n",
      "loss: 0.885480 [ 5696/10000]\n",
      "loss: 0.965833 [ 5760/10000]\n",
      "loss: 0.730437 [ 5824/10000]\n",
      "loss: 0.535624 [ 5888/10000]\n",
      "loss: 0.838143 [ 5952/10000]\n",
      "loss: 0.596636 [ 6016/10000]\n",
      "loss: 0.797007 [ 6080/10000]\n",
      "loss: 0.614355 [ 6144/10000]\n",
      "loss: 0.711323 [ 6208/10000]\n",
      "loss: 0.858985 [ 6272/10000]\n",
      "loss: 0.687567 [ 6336/10000]\n",
      "loss: 0.780304 [ 6400/10000]\n",
      "loss: 0.719311 [ 6464/10000]\n",
      "loss: 0.711473 [ 6528/10000]\n",
      "loss: 0.736849 [ 6592/10000]\n",
      "loss: 1.029824 [ 6656/10000]\n",
      "loss: 0.583695 [ 6720/10000]\n",
      "loss: 0.806698 [ 6784/10000]\n",
      "loss: 0.735891 [ 6848/10000]\n",
      "loss: 0.754330 [ 6912/10000]\n",
      "loss: 0.732178 [ 6976/10000]\n",
      "loss: 0.680867 [ 7040/10000]\n",
      "loss: 0.590754 [ 7104/10000]\n",
      "loss: 0.803671 [ 7168/10000]\n",
      "loss: 0.736612 [ 7232/10000]\n",
      "loss: 0.683966 [ 7296/10000]\n",
      "loss: 0.696608 [ 7360/10000]\n",
      "loss: 0.651186 [ 7424/10000]\n",
      "loss: 0.613823 [ 7488/10000]\n",
      "loss: 0.785693 [ 7552/10000]\n",
      "loss: 0.718669 [ 7616/10000]\n",
      "loss: 0.693039 [ 7680/10000]\n",
      "loss: 0.689764 [ 7744/10000]\n",
      "loss: 0.712175 [ 7808/10000]\n",
      "loss: 0.915996 [ 7872/10000]\n",
      "loss: 0.860437 [ 7936/10000]\n",
      "loss: 0.749687 [ 8000/10000]\n",
      "loss: 0.782329 [ 8064/10000]\n",
      "loss: 0.752417 [ 8128/10000]\n",
      "loss: 0.723040 [ 8192/10000]\n",
      "loss: 0.795379 [ 8256/10000]\n",
      "loss: 0.549152 [ 8320/10000]\n",
      "loss: 0.543224 [ 8384/10000]\n",
      "loss: 0.554405 [ 8448/10000]\n",
      "loss: 0.764873 [ 8512/10000]\n",
      "loss: 0.714784 [ 8576/10000]\n",
      "loss: 0.567226 [ 8640/10000]\n",
      "loss: 0.940447 [ 8704/10000]\n",
      "loss: 0.607475 [ 8768/10000]\n",
      "loss: 0.668794 [ 8832/10000]\n",
      "loss: 0.759996 [ 8896/10000]\n",
      "loss: 0.566458 [ 8960/10000]\n",
      "loss: 0.741722 [ 9024/10000]\n",
      "loss: 0.838078 [ 9088/10000]\n",
      "loss: 0.811107 [ 9152/10000]\n",
      "loss: 0.766747 [ 9216/10000]\n",
      "loss: 0.698228 [ 9280/10000]\n",
      "loss: 0.721444 [ 9344/10000]\n",
      "loss: 0.621186 [ 9408/10000]\n",
      "loss: 0.775772 [ 9472/10000]\n",
      "loss: 0.843726 [ 9536/10000]\n",
      "loss: 0.802133 [ 9600/10000]\n",
      "loss: 0.604854 [ 9664/10000]\n",
      "loss: 0.584645 [ 9728/10000]\n",
      "loss: 0.559113 [ 9792/10000]\n",
      "loss: 0.814941 [ 9856/10000]\n",
      "loss: 0.766896 [ 9920/10000]\n",
      "loss: 0.425380 [ 2496/10000]\n"
     ]
    }
   ],
   "source": [
    "train_loop(train_dataloader,model,loss,optimizer)"
   ]
  },
  {
   "cell_type": "code",
   "execution_count": 38,
   "id": "6d3c486e",
   "metadata": {},
   "outputs": [
    {
     "name": "stdout",
     "output_type": "stream",
     "text": [
      "Test Error: \n",
      " Accuracy:75.9%, Avg loss:0.706780 \n",
      "\n"
     ]
    }
   ],
   "source": [
    "test_loop(test_dataloader, model, loss)"
   ]
  },
  {
   "cell_type": "code",
   "execution_count": null,
   "id": "cf84e6ee",
   "metadata": {},
   "outputs": [],
   "source": []
  }
 ],
 "metadata": {
  "kernelspec": {
   "display_name": "Python [conda env:pytorch]",
   "language": "python",
   "name": "conda-env-pytorch-py"
  },
  "language_info": {
   "codemirror_mode": {
    "name": "ipython",
    "version": 3
   },
   "file_extension": ".py",
   "mimetype": "text/x-python",
   "name": "python",
   "nbconvert_exporter": "python",
   "pygments_lexer": "ipython3",
   "version": "3.8.12"
  }
 },
 "nbformat": 4,
 "nbformat_minor": 5
}
