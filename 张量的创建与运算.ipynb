{
 "cells": [
  {
   "cell_type": "markdown",
   "id": "1550dcac",
   "metadata": {},
   "source": [
    "# 张量的创建与运算"
   ]
  },
  {
   "cell_type": "code",
   "execution_count": 1,
   "id": "e9e93785",
   "metadata": {},
   "outputs": [],
   "source": [
    "import torch"
   ]
  },
  {
   "cell_type": "markdown",
   "id": "7e5dcc5f",
   "metadata": {},
   "source": [
    "## 初始化张量\n",
    "### 通过列表创建张量"
   ]
  },
  {
   "cell_type": "code",
   "execution_count": 2,
   "id": "d2f0119f",
   "metadata": {},
   "outputs": [
    {
     "data": {
      "text/plain": [
       "torch.int64"
      ]
     },
     "execution_count": 2,
     "metadata": {},
     "output_type": "execute_result"
    }
   ],
   "source": [
    "data = [[1, 2], [3, 4]]\n",
    "x_data = torch.tensor(data)\n",
    "x_data.dtype"
   ]
  },
  {
   "cell_type": "markdown",
   "id": "95dc5ce3",
   "metadata": {},
   "source": [
    "### 通过numpy数组创建张量"
   ]
  },
  {
   "cell_type": "code",
   "execution_count": 3,
   "id": "2620f830",
   "metadata": {},
   "outputs": [
    {
     "data": {
      "text/plain": [
       "tensor([1., 2., 3.], dtype=torch.float64)"
      ]
     },
     "execution_count": 3,
     "metadata": {},
     "output_type": "execute_result"
    }
   ],
   "source": [
    "import numpy as np\n",
    "a = np.random.normal(0, 1, 3)\n",
    "a = np.array([1., 2., 3.])\n",
    "b = torch.tensor(a)\n",
    "b"
   ]
  },
  {
   "cell_type": "code",
   "execution_count": 4,
   "id": "d15784ca",
   "metadata": {},
   "outputs": [
    {
     "data": {
      "text/plain": [
       "tensor([0.7425, 0.4216, 0.0456], dtype=torch.float64)"
      ]
     },
     "execution_count": 4,
     "metadata": {},
     "output_type": "execute_result"
    }
   ],
   "source": [
    "c = torch.ones_like(b)\n",
    "d = torch.zeros_like(b)\n",
    "e = torch.rand_like(b)\n",
    "e"
   ]
  },
  {
   "cell_type": "markdown",
   "id": "84dcf14f",
   "metadata": {},
   "source": [
    "### 随机生成某种大小张量"
   ]
  },
  {
   "cell_type": "code",
   "execution_count": 5,
   "id": "175b96e5",
   "metadata": {},
   "outputs": [
    {
     "data": {
      "text/plain": [
       "tensor([[0.6830, 0.7151],\n",
       "        [0.7480, 0.6488]])"
      ]
     },
     "execution_count": 5,
     "metadata": {},
     "output_type": "execute_result"
    }
   ],
   "source": [
    "torch.rand([2, 2])\n",
    "torch.rand((2, 2))"
   ]
  },
  {
   "cell_type": "markdown",
   "id": "38fdaf7c",
   "metadata": {},
   "source": [
    "## tensor的属性"
   ]
  },
  {
   "cell_type": "code",
   "execution_count": 6,
   "id": "ff800ed6",
   "metadata": {},
   "outputs": [
    {
     "data": {
      "text/plain": [
       "device(type='cpu')"
      ]
     },
     "execution_count": 6,
     "metadata": {},
     "output_type": "execute_result"
    }
   ],
   "source": [
    "e.dtype\n",
    "e.shape\n",
    "e.device"
   ]
  },
  {
   "cell_type": "markdown",
   "id": "47736284",
   "metadata": {},
   "source": [
    "## tensor中的操作"
   ]
  },
  {
   "cell_type": "markdown",
   "id": "6d80cb3c",
   "metadata": {},
   "source": [
    "### 将张量转移到gpu"
   ]
  },
  {
   "cell_type": "code",
   "execution_count": 7,
   "id": "0d01f47e",
   "metadata": {},
   "outputs": [],
   "source": [
    "if torch.cuda.is_available():\n",
    "    e = e.to('cuda')"
   ]
  },
  {
   "cell_type": "code",
   "execution_count": 8,
   "id": "fc8f9ab3",
   "metadata": {},
   "outputs": [
    {
     "data": {
      "text/plain": [
       "True"
      ]
     },
     "execution_count": 8,
     "metadata": {},
     "output_type": "execute_result"
    }
   ],
   "source": [
    "torch.is_tensor(e) # 返回bool是否是一个tensor"
   ]
  },
  {
   "cell_type": "code",
   "execution_count": 9,
   "id": "be862409",
   "metadata": {},
   "outputs": [
    {
     "data": {
      "text/plain": [
       "False"
      ]
     },
     "execution_count": 9,
     "metadata": {},
     "output_type": "execute_result"
    }
   ],
   "source": [
    "torch.is_complex(e) # 返回bool是否是复数类型"
   ]
  },
  {
   "cell_type": "code",
   "execution_count": 10,
   "id": "fa5b1536",
   "metadata": {},
   "outputs": [
    {
     "data": {
      "text/plain": [
       "False"
      ]
     },
     "execution_count": 10,
     "metadata": {},
     "output_type": "execute_result"
    }
   ],
   "source": [
    "a = torch.tensor(0.)\n",
    "torch.is_nonzero(a) # 对于单一张量返回其是否为非0"
   ]
  },
  {
   "cell_type": "code",
   "execution_count": 11,
   "id": "091c06c8",
   "metadata": {},
   "outputs": [
    {
     "data": {
      "text/plain": [
       "5"
      ]
     },
     "execution_count": 11,
     "metadata": {},
     "output_type": "execute_result"
    }
   ],
   "source": [
    "a = torch.tensor([1, 2, 3, 4, 5 ])\n",
    "torch.numel(a) # 返回元素个数"
   ]
  },
  {
   "cell_type": "code",
   "execution_count": 12,
   "id": "d1a83786",
   "metadata": {},
   "outputs": [
    {
     "data": {
      "text/plain": [
       "tensor([[0., 0., 0.],\n",
       "        [0., 0., 0.]])"
      ]
     },
     "execution_count": 12,
     "metadata": {},
     "output_type": "execute_result"
    }
   ],
   "source": [
    "torch.zeros((2, 3))"
   ]
  },
  {
   "cell_type": "code",
   "execution_count": 13,
   "id": "0286e4b9",
   "metadata": {},
   "outputs": [
    {
     "data": {
      "text/plain": [
       "tensor([[0., 0.],\n",
       "        [0., 0.]], dtype=torch.float64)"
      ]
     },
     "execution_count": 13,
     "metadata": {},
     "output_type": "execute_result"
    }
   ],
   "source": [
    "torch.zeros([2, 2], dtype=torch.double)"
   ]
  },
  {
   "cell_type": "code",
   "execution_count": 14,
   "id": "dd911213",
   "metadata": {},
   "outputs": [
    {
     "data": {
      "text/plain": [
       "tensor([0, 2, 4])"
      ]
     },
     "execution_count": 14,
     "metadata": {},
     "output_type": "execute_result"
    }
   ],
   "source": [
    "torch.arange(0, 6, 2)"
   ]
  },
  {
   "cell_type": "code",
   "execution_count": 15,
   "id": "5aa333b7",
   "metadata": {},
   "outputs": [
    {
     "data": {
      "text/plain": [
       "tensor([0, 1, 2, 3, 4])"
      ]
     },
     "execution_count": 15,
     "metadata": {},
     "output_type": "execute_result"
    }
   ],
   "source": [
    "torch.arange(5)"
   ]
  },
  {
   "cell_type": "code",
   "execution_count": 16,
   "id": "3dfe76b5",
   "metadata": {},
   "outputs": [
    {
     "name": "stderr",
     "output_type": "stream",
     "text": [
      "C:\\Users\\Sevent\\AppData\\Local\\Temp/ipykernel_17584/1393396694.py:1: UserWarning: torch.range is deprecated and will be removed in a future release because its behavior is inconsistent with Python's range builtin. Instead, use torch.arange, which produces values in [start, end).\n",
      "  torch.range(0,5)\n"
     ]
    },
    {
     "data": {
      "text/plain": [
       "tensor([0., 1., 2., 3., 4., 5.])"
      ]
     },
     "execution_count": 16,
     "metadata": {},
     "output_type": "execute_result"
    }
   ],
   "source": [
    "torch.range(0,5)"
   ]
  },
  {
   "cell_type": "code",
   "execution_count": 17,
   "id": "4799c4c8",
   "metadata": {},
   "outputs": [
    {
     "data": {
      "text/plain": [
       "tensor([4.0000, 4.0101, 4.0202, 4.0303, 4.0404, 4.0505, 4.0606, 4.0707, 4.0808,\n",
       "        4.0909, 4.1010, 4.1111, 4.1212, 4.1313, 4.1414, 4.1515, 4.1616, 4.1717,\n",
       "        4.1818, 4.1919, 4.2020, 4.2121, 4.2222, 4.2323, 4.2424, 4.2525, 4.2626,\n",
       "        4.2727, 4.2828, 4.2929, 4.3030, 4.3131, 4.3232, 4.3333, 4.3434, 4.3535,\n",
       "        4.3636, 4.3737, 4.3838, 4.3939, 4.4040, 4.4141, 4.4242, 4.4343, 4.4444,\n",
       "        4.4545, 4.4646, 4.4747, 4.4848, 4.4949, 4.5051, 4.5152, 4.5253, 4.5354,\n",
       "        4.5455, 4.5556, 4.5657, 4.5758, 4.5859, 4.5960, 4.6061, 4.6162, 4.6263,\n",
       "        4.6364, 4.6465, 4.6566, 4.6667, 4.6768, 4.6869, 4.6970, 4.7071, 4.7172,\n",
       "        4.7273, 4.7374, 4.7475, 4.7576, 4.7677, 4.7778, 4.7879, 4.7980, 4.8081,\n",
       "        4.8182, 4.8283, 4.8384, 4.8485, 4.8586, 4.8687, 4.8788, 4.8889, 4.8990,\n",
       "        4.9091, 4.9192, 4.9293, 4.9394, 4.9495, 4.9596, 4.9697, 4.9798, 4.9899,\n",
       "        5.0000])"
      ]
     },
     "execution_count": 17,
     "metadata": {},
     "output_type": "execute_result"
    }
   ],
   "source": [
    "torch.linspace(4, 5, 100)"
   ]
  },
  {
   "cell_type": "code",
   "execution_count": 18,
   "id": "3ed62521",
   "metadata": {},
   "outputs": [
    {
     "data": {
      "text/plain": [
       "tensor([[5, 5, 5],\n",
       "        [5, 5, 5]])"
      ]
     },
     "execution_count": 18,
     "metadata": {},
     "output_type": "execute_result"
    }
   ],
   "source": [
    "torch.full([2, 3], 5)"
   ]
  },
  {
   "cell_type": "markdown",
   "id": "0295848d",
   "metadata": {},
   "source": [
    "### tensor连接"
   ]
  },
  {
   "cell_type": "code",
   "execution_count": 19,
   "id": "11aefd7d",
   "metadata": {},
   "outputs": [
    {
     "data": {
      "text/plain": [
       "tensor([[0.1050, 0.0224, 0.1783, 0.3902, 0.8010],\n",
       "        [0.1913, 0.8945, 0.7959, 0.4581, 0.5676]])"
      ]
     },
     "execution_count": 19,
     "metadata": {},
     "output_type": "execute_result"
    }
   ],
   "source": [
    "a = torch.rand(2,2)\n",
    "b = torch.rand(2,3)\n",
    "torch.cat([a, b], dim=1)"
   ]
  },
  {
   "cell_type": "code",
   "execution_count": 20,
   "id": "b4adf30e",
   "metadata": {},
   "outputs": [
    {
     "data": {
      "text/plain": [
       "(tensor([[0.3628],\n",
       "         [0.1219],\n",
       "         [0.1416]]),\n",
       " tensor([[0.2590],\n",
       "         [0.6950],\n",
       "         [0.9004]]))"
      ]
     },
     "execution_count": 20,
     "metadata": {},
     "output_type": "execute_result"
    }
   ],
   "source": [
    "b = torch.rand(3, 2)\n",
    "c, d=torch.chunk(b, chunks=2) # 张量分割\n",
    "c.shape\n",
    "d.shape\n",
    "torch.chunk(b, chunks=2, dim=1)"
   ]
  },
  {
   "cell_type": "code",
   "execution_count": 21,
   "id": "8b5d872a",
   "metadata": {},
   "outputs": [
    {
     "data": {
      "text/plain": [
       "tensor([[1, 1],\n",
       "        [4, 3]])"
      ]
     },
     "execution_count": 21,
     "metadata": {},
     "output_type": "execute_result"
    }
   ],
   "source": [
    "t = torch.tensor([[1, 2], [3, 4]])\n",
    "torch.gather(t, 1, torch.tensor([[0, 0],[1, 0]]))"
   ]
  },
  {
   "cell_type": "code",
   "execution_count": 22,
   "id": "677ea24a",
   "metadata": {},
   "outputs": [],
   "source": [
    "a = torch.rand([3,4])\n",
    "b = torch.reshape(a,(1, -1))"
   ]
  },
  {
   "cell_type": "code",
   "execution_count": 23,
   "id": "6d94316e",
   "metadata": {},
   "outputs": [
    {
     "data": {
      "text/plain": [
       "tensor([[0.6460, 0.4344, 0.5862, 0.4906, 0.2030, 0.8785, 0.9684, 0.4109, 0.5211,\n",
       "         0.3615, 0.9054, 0.2046]])"
      ]
     },
     "execution_count": 23,
     "metadata": {},
     "output_type": "execute_result"
    }
   ],
   "source": [
    "b"
   ]
  },
  {
   "cell_type": "code",
   "execution_count": 24,
   "id": "f0fd60a1",
   "metadata": {},
   "outputs": [],
   "source": [
    "b = torch.reshape(b, [3, 4])"
   ]
  },
  {
   "cell_type": "code",
   "execution_count": 25,
   "id": "cbda5edb",
   "metadata": {},
   "outputs": [
    {
     "data": {
      "text/plain": [
       "(tensor([[0.6460, 0.4344, 0.5862, 0.4906],\n",
       "         [0.2030, 0.8785, 0.9684, 0.4109]]),\n",
       " tensor([[0.5211, 0.3615, 0.9054, 0.2046]]))"
      ]
     },
     "execution_count": 25,
     "metadata": {},
     "output_type": "execute_result"
    }
   ],
   "source": [
    "torch.split(a, 2) # 分割tensor，传入每份的大小，chunk中传入分成几份"
   ]
  },
  {
   "cell_type": "code",
   "execution_count": 26,
   "id": "1e313f01",
   "metadata": {},
   "outputs": [
    {
     "data": {
      "text/plain": [
       "tensor([[0.7756, 0.8545],\n",
       "        [0.1971, 0.9599],\n",
       "        [0.2225, 0.9425]])"
      ]
     },
     "execution_count": 26,
     "metadata": {},
     "output_type": "execute_result"
    }
   ],
   "source": [
    "a = torch.rand([3, 2])\n",
    "torch.squeeze(torch.reshape(a, [3, 1, 2]), dim=1)"
   ]
  },
  {
   "cell_type": "code",
   "execution_count": 27,
   "id": "42d6aca6",
   "metadata": {},
   "outputs": [
    {
     "data": {
      "text/plain": [
       "tensor([[[0.1010, 0.7094],\n",
       "         [0.3671, 0.1164],\n",
       "         [0.5290, 0.1149]],\n",
       "\n",
       "        [[0.5476, 0.3017],\n",
       "         [0.8299, 0.0940],\n",
       "         [0.3981, 0.9152]]])"
      ]
     },
     "execution_count": 27,
     "metadata": {},
     "output_type": "execute_result"
    }
   ],
   "source": [
    "a = torch.rand([3, 2])\n",
    "b = torch.rand([3, 2])\n",
    "torch.stack((a, b)) # 在新的维度对多个张量进行连接"
   ]
  },
  {
   "cell_type": "code",
   "execution_count": 28,
   "id": "bba9473f",
   "metadata": {},
   "outputs": [
    {
     "data": {
      "text/plain": [
       "tensor([[[0.1010, 0.7094],\n",
       "         [0.5476, 0.3017]],\n",
       "\n",
       "        [[0.3671, 0.1164],\n",
       "         [0.8299, 0.0940]],\n",
       "\n",
       "        [[0.5290, 0.1149],\n",
       "         [0.3981, 0.9152]]])"
      ]
     },
     "execution_count": 28,
     "metadata": {},
     "output_type": "execute_result"
    }
   ],
   "source": [
    "torch.stack((a,b),dim=1)"
   ]
  },
  {
   "cell_type": "code",
   "execution_count": 29,
   "id": "fd996e78",
   "metadata": {},
   "outputs": [
    {
     "data": {
      "text/plain": [
       "torch.dtype"
      ]
     },
     "execution_count": 29,
     "metadata": {},
     "output_type": "execute_result"
    }
   ],
   "source": [
    "torch.take() #将input张量看做一维返回对应索引"
   ]
  },
  {
   "cell_type": "code",
   "execution_count": 32,
   "id": "c5391482",
   "metadata": {},
   "outputs": [
    {
     "data": {
      "text/plain": [
       "tensor([1, 3, 6])"
      ]
     },
     "execution_count": 32,
     "metadata": {},
     "output_type": "execute_result"
    }
   ],
   "source": [
    "a = torch.tensor([[1, 2, 3, 4], [5, 6, 7, 8]])\n",
    "torch.take(a, torch.tensor([0, 2, 5]))"
   ]
  },
  {
   "cell_type": "code",
   "execution_count": 56,
   "id": "4b1151c4",
   "metadata": {},
   "outputs": [
    {
     "data": {
      "text/plain": [
       "tensor([[1, 2],\n",
       "        [3, 4],\n",
       "        [1, 2],\n",
       "        [3, 4]])"
      ]
     },
     "execution_count": 56,
     "metadata": {},
     "output_type": "execute_result"
    }
   ],
   "source": [
    "x= torch.tensor([[1, 2],[3, 4]])\n",
    "x.tile((2, 1))"
   ]
  },
  {
   "cell_type": "markdown",
   "id": "11fec56d",
   "metadata": {},
   "source": [
    "### 随机种子"
   ]
  },
  {
   "cell_type": "code",
   "execution_count": 57,
   "id": "8732819f",
   "metadata": {},
   "outputs": [
    {
     "ename": "NameError",
     "evalue": "name 'seed' is not defined",
     "output_type": "error",
     "traceback": [
      "\u001b[1;31m---------------------------------------------------------------------------\u001b[0m",
      "\u001b[1;31mNameError\u001b[0m                                 Traceback (most recent call last)",
      "\u001b[1;32m~\\AppData\\Local\\Temp/ipykernel_17584/494056238.py\u001b[0m in \u001b[0;36m<module>\u001b[1;34m\u001b[0m\n\u001b[1;32m----> 1\u001b[1;33m \u001b[0mtorch\u001b[0m\u001b[1;33m.\u001b[0m\u001b[0mmanual_seed\u001b[0m\u001b[1;33m(\u001b[0m\u001b[0mseed\u001b[0m\u001b[1;33m)\u001b[0m\u001b[1;33m\u001b[0m\u001b[1;33m\u001b[0m\u001b[0m\n\u001b[0m",
      "\u001b[1;31mNameError\u001b[0m: name 'seed' is not defined"
     ]
    }
   ],
   "source": [
    "torch.manual_seed(seed)"
   ]
  },
  {
   "cell_type": "code",
   "execution_count": 60,
   "id": "1463ddff",
   "metadata": {},
   "outputs": [
    {
     "data": {
      "text/plain": [
       "tensor([[ 1.5079, -1.6458,  0.7549,  0.5332]])"
      ]
     },
     "execution_count": 60,
     "metadata": {},
     "output_type": "execute_result"
    }
   ],
   "source": [
    "torch.normal(0, 1, size=(1, 4))"
   ]
  },
  {
   "cell_type": "code",
   "execution_count": 61,
   "id": "b21c390b",
   "metadata": {},
   "outputs": [
    {
     "data": {
      "text/plain": [
       "tensor([[0.5429, 0.0493, 0.4188, 0.0269],\n",
       "        [0.7479, 0.4615, 0.2202, 0.7472],\n",
       "        [0.1194, 0.5630, 0.2279, 0.1969]])"
      ]
     },
     "execution_count": 61,
     "metadata": {},
     "output_type": "execute_result"
    }
   ],
   "source": [
    "torch.rand(3, 4)"
   ]
  },
  {
   "cell_type": "code",
   "execution_count": 64,
   "id": "256ec771",
   "metadata": {},
   "outputs": [
    {
     "data": {
      "text/plain": [
       "tensor([[5, 5, 5],\n",
       "        [5, 5, 5]])"
      ]
     },
     "execution_count": 64,
     "metadata": {},
     "output_type": "execute_result"
    }
   ],
   "source": [
    "torch.randint(5, 6, (2, 3))"
   ]
  },
  {
   "cell_type": "code",
   "execution_count": 63,
   "id": "196601a3",
   "metadata": {},
   "outputs": [
    {
     "data": {
      "text/plain": [
       "tensor([[-0.5224,  2.3377,  0.3585, -1.4834],\n",
       "        [-0.3933,  0.3714, -0.6492, -0.1244],\n",
       "        [ 0.3488,  0.4573, -0.9525,  0.0361]])"
      ]
     },
     "execution_count": 63,
     "metadata": {},
     "output_type": "execute_result"
    }
   ],
   "source": [
    "torch.randn(3, 4)"
   ]
  },
  {
   "cell_type": "code",
   "execution_count": 65,
   "id": "1b9c7d21",
   "metadata": {},
   "outputs": [
    {
     "data": {
      "text/plain": [
       "tensor([1, 3, 2, 0])"
      ]
     },
     "execution_count": 65,
     "metadata": {},
     "output_type": "execute_result"
    }
   ],
   "source": [
    "torch.randperm(4) # 随机组合"
   ]
  },
  {
   "cell_type": "code",
   "execution_count": null,
   "id": "6d703462",
   "metadata": {},
   "outputs": [],
   "source": []
  }
 ],
 "metadata": {
  "kernelspec": {
   "display_name": "Python [conda env:pytorch]",
   "language": "python",
   "name": "conda-env-pytorch-py"
  },
  "language_info": {
   "codemirror_mode": {
    "name": "ipython",
    "version": 3
   },
   "file_extension": ".py",
   "mimetype": "text/x-python",
   "name": "python",
   "nbconvert_exporter": "python",
   "pygments_lexer": "ipython3",
   "version": "3.8.12"
  }
 },
 "nbformat": 4,
 "nbformat_minor": 5
}
