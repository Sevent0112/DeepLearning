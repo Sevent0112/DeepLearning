{
 "cells": [
  {
   "cell_type": "markdown",
   "id": "1550dcac",
   "metadata": {},
   "source": [
    "# 张量的创建与运算"
   ]
  },
  {
   "cell_type": "code",
   "execution_count": 1,
   "id": "e9e93785",
   "metadata": {},
   "outputs": [],
   "source": [
    "import torch"
   ]
  },
  {
   "cell_type": "markdown",
   "id": "7e5dcc5f",
   "metadata": {},
   "source": [
    "## 初始化张量\n",
    "### 通过列表创建张量"
   ]
  },
  {
   "cell_type": "code",
   "execution_count": 8,
   "id": "d2f0119f",
   "metadata": {},
   "outputs": [
    {
     "data": {
      "text/plain": [
       "torch.int64"
      ]
     },
     "execution_count": 8,
     "metadata": {},
     "output_type": "execute_result"
    }
   ],
   "source": [
    "data = [[1, 2], [3, 4]]\n",
    "x_data = torch.tensor(data)\n",
    "x_data.dtype"
   ]
  },
  {
   "cell_type": "markdown",
   "id": "95dc5ce3",
   "metadata": {},
   "source": [
    "### 通过numpy数组创建张量"
   ]
  },
  {
   "cell_type": "code",
   "execution_count": 20,
   "id": "2620f830",
   "metadata": {},
   "outputs": [
    {
     "data": {
      "text/plain": [
       "tensor([1., 2., 3.], dtype=torch.float64)"
      ]
     },
     "execution_count": 20,
     "metadata": {},
     "output_type": "execute_result"
    }
   ],
   "source": [
    "import numpy as np\n",
    "a = np.random.normal(0, 1, 3)\n",
    "a = np.array([1., 2., 3.])\n",
    "b = torch.tensor(a)\n",
    "b"
   ]
  },
  {
   "cell_type": "code",
   "execution_count": 21,
   "id": "d15784ca",
   "metadata": {},
   "outputs": [
    {
     "data": {
      "text/plain": [
       "tensor([0.7474, 0.1944, 0.0854], dtype=torch.float64)"
      ]
     },
     "execution_count": 21,
     "metadata": {},
     "output_type": "execute_result"
    }
   ],
   "source": [
    "c = torch.ones_like(b)\n",
    "d = torch.zeros_like(b)\n",
    "e = torch.rand_like(b)\n",
    "e"
   ]
  },
  {
   "cell_type": "markdown",
   "id": "84dcf14f",
   "metadata": {},
   "source": [
    "### 随机生成某种大小张量"
   ]
  },
  {
   "cell_type": "code",
   "execution_count": 23,
   "id": "175b96e5",
   "metadata": {},
   "outputs": [
    {
     "data": {
      "text/plain": [
       "tensor([[0.4052, 0.5130],\n",
       "        [0.9718, 0.9336]])"
      ]
     },
     "execution_count": 23,
     "metadata": {},
     "output_type": "execute_result"
    }
   ],
   "source": [
    "torch.rand([2, 2])\n",
    "torch.rand((2, 2))"
   ]
  },
  {
   "cell_type": "markdown",
   "id": "38fdaf7c",
   "metadata": {},
   "source": [
    "## tensor的属性"
   ]
  },
  {
   "cell_type": "code",
   "execution_count": 27,
   "id": "ff800ed6",
   "metadata": {},
   "outputs": [
    {
     "data": {
      "text/plain": [
       "device(type='cpu')"
      ]
     },
     "execution_count": 27,
     "metadata": {},
     "output_type": "execute_result"
    }
   ],
   "source": [
    "e.dtype\n",
    "e.shape\n",
    "e.device"
   ]
  },
  {
   "cell_type": "markdown",
   "id": "47736284",
   "metadata": {},
   "source": [
    "## tensor中的操作"
   ]
  },
  {
   "cell_type": "markdown",
   "id": "6d80cb3c",
   "metadata": {},
   "source": [
    "### 将张量转移到gpu"
   ]
  },
  {
   "cell_type": "code",
   "execution_count": 29,
   "id": "0d01f47e",
   "metadata": {},
   "outputs": [],
   "source": [
    "if torch.cuda.is_available():\n",
    "    e = e.to('cuda')"
   ]
  },
  {
   "cell_type": "code",
   "execution_count": 31,
   "id": "fc8f9ab3",
   "metadata": {},
   "outputs": [
    {
     "data": {
      "text/plain": [
       "True"
      ]
     },
     "execution_count": 31,
     "metadata": {},
     "output_type": "execute_result"
    }
   ],
   "source": [
    "torch.is_tensor(e) # 返回bool是否是一个tensor"
   ]
  },
  {
   "cell_type": "code",
   "execution_count": 33,
   "id": "be862409",
   "metadata": {},
   "outputs": [
    {
     "data": {
      "text/plain": [
       "False"
      ]
     },
     "execution_count": 33,
     "metadata": {},
     "output_type": "execute_result"
    }
   ],
   "source": [
    "torch.is_complex(e) # 返回bool是否是复数类型"
   ]
  },
  {
   "cell_type": "code",
   "execution_count": 36,
   "id": "fa5b1536",
   "metadata": {},
   "outputs": [
    {
     "data": {
      "text/plain": [
       "False"
      ]
     },
     "execution_count": 36,
     "metadata": {},
     "output_type": "execute_result"
    }
   ],
   "source": [
    "a = torch.tensor(0.)\n",
    "torch.is_nonzero(a) # 对于单一张量返回其是否为非0"
   ]
  },
  {
   "cell_type": "code",
   "execution_count": 39,
   "id": "091c06c8",
   "metadata": {},
   "outputs": [
    {
     "data": {
      "text/plain": [
       "5"
      ]
     },
     "execution_count": 39,
     "metadata": {},
     "output_type": "execute_result"
    }
   ],
   "source": [
    "a = torch.tensor([1, 2, 3, 4, 5 ])\n",
    "torch.numel(a) # 返回元素个数"
   ]
  },
  {
   "cell_type": "code",
   "execution_count": 41,
   "id": "d1a83786",
   "metadata": {},
   "outputs": [
    {
     "data": {
      "text/plain": [
       "tensor([[0., 0., 0.],\n",
       "        [0., 0., 0.]])"
      ]
     },
     "execution_count": 41,
     "metadata": {},
     "output_type": "execute_result"
    }
   ],
   "source": [
    "torch.zeros((2, 3))"
   ]
  },
  {
   "cell_type": "code",
   "execution_count": 43,
   "id": "0286e4b9",
   "metadata": {},
   "outputs": [
    {
     "data": {
      "text/plain": [
       "tensor([[0., 0.],\n",
       "        [0., 0.]], dtype=torch.float64)"
      ]
     },
     "execution_count": 43,
     "metadata": {},
     "output_type": "execute_result"
    }
   ],
   "source": [
    "torch.zeros([2, 2], dtype=torch.double)"
   ]
  },
  {
   "cell_type": "code",
   "execution_count": 44,
   "id": "dd911213",
   "metadata": {},
   "outputs": [
    {
     "data": {
      "text/plain": [
       "tensor([0, 2, 4])"
      ]
     },
     "execution_count": 44,
     "metadata": {},
     "output_type": "execute_result"
    }
   ],
   "source": [
    "torch.arange(0, 6, 2)"
   ]
  },
  {
   "cell_type": "code",
   "execution_count": 45,
   "id": "5aa333b7",
   "metadata": {},
   "outputs": [
    {
     "data": {
      "text/plain": [
       "tensor([0, 1, 2, 3, 4])"
      ]
     },
     "execution_count": 45,
     "metadata": {},
     "output_type": "execute_result"
    }
   ],
   "source": [
    "torch.arange(5)"
   ]
  },
  {
   "cell_type": "code",
   "execution_count": 47,
   "id": "3dfe76b5",
   "metadata": {},
   "outputs": [
    {
     "name": "stderr",
     "output_type": "stream",
     "text": [
      "C:\\Users\\Sevent\\AppData\\Local\\Temp/ipykernel_28488/1393396694.py:1: UserWarning: torch.range is deprecated and will be removed in a future release because its behavior is inconsistent with Python's range builtin. Instead, use torch.arange, which produces values in [start, end).\n",
      "  torch.range(0,5)\n"
     ]
    },
    {
     "data": {
      "text/plain": [
       "tensor([0., 1., 2., 3., 4., 5.])"
      ]
     },
     "execution_count": 47,
     "metadata": {},
     "output_type": "execute_result"
    }
   ],
   "source": [
    "torch.range(0,5)"
   ]
  },
  {
   "cell_type": "code",
   "execution_count": 52,
   "id": "4799c4c8",
   "metadata": {},
   "outputs": [
    {
     "data": {
      "text/plain": [
       "tensor([4.0000, 4.0101, 4.0202, 4.0303, 4.0404, 4.0505, 4.0606, 4.0707, 4.0808,\n",
       "        4.0909, 4.1010, 4.1111, 4.1212, 4.1313, 4.1414, 4.1515, 4.1616, 4.1717,\n",
       "        4.1818, 4.1919, 4.2020, 4.2121, 4.2222, 4.2323, 4.2424, 4.2525, 4.2626,\n",
       "        4.2727, 4.2828, 4.2929, 4.3030, 4.3131, 4.3232, 4.3333, 4.3434, 4.3535,\n",
       "        4.3636, 4.3737, 4.3838, 4.3939, 4.4040, 4.4141, 4.4242, 4.4343, 4.4444,\n",
       "        4.4545, 4.4646, 4.4747, 4.4848, 4.4949, 4.5051, 4.5152, 4.5253, 4.5354,\n",
       "        4.5455, 4.5556, 4.5657, 4.5758, 4.5859, 4.5960, 4.6061, 4.6162, 4.6263,\n",
       "        4.6364, 4.6465, 4.6566, 4.6667, 4.6768, 4.6869, 4.6970, 4.7071, 4.7172,\n",
       "        4.7273, 4.7374, 4.7475, 4.7576, 4.7677, 4.7778, 4.7879, 4.7980, 4.8081,\n",
       "        4.8182, 4.8283, 4.8384, 4.8485, 4.8586, 4.8687, 4.8788, 4.8889, 4.8990,\n",
       "        4.9091, 4.9192, 4.9293, 4.9394, 4.9495, 4.9596, 4.9697, 4.9798, 4.9899,\n",
       "        5.0000])"
      ]
     },
     "execution_count": 52,
     "metadata": {},
     "output_type": "execute_result"
    }
   ],
   "source": [
    "torch.linspace(4, 5, 100)"
   ]
  },
  {
   "cell_type": "code",
   "execution_count": 53,
   "id": "3ed62521",
   "metadata": {},
   "outputs": [
    {
     "data": {
      "text/plain": [
       "tensor([[5, 5, 5],\n",
       "        [5, 5, 5]])"
      ]
     },
     "execution_count": 53,
     "metadata": {},
     "output_type": "execute_result"
    }
   ],
   "source": [
    "torch.full([2, 3], 5)"
   ]
  },
  {
   "cell_type": "markdown",
   "id": "0295848d",
   "metadata": {},
   "source": [
    "### tensor连接"
   ]
  },
  {
   "cell_type": "code",
   "execution_count": 56,
   "id": "11aefd7d",
   "metadata": {},
   "outputs": [
    {
     "data": {
      "text/plain": [
       "tensor([[0.3232, 0.1332, 0.6408, 0.9072, 0.2825],\n",
       "        [0.2210, 0.6563, 0.0214, 0.2227, 0.5008]])"
      ]
     },
     "execution_count": 56,
     "metadata": {},
     "output_type": "execute_result"
    }
   ],
   "source": [
    "a = torch.rand(2,2)\n",
    "b = torch.rand(2,3)\n",
    "torch.cat([a, b], dim=1)"
   ]
  },
  {
   "cell_type": "code",
   "execution_count": 61,
   "id": "b4adf30e",
   "metadata": {},
   "outputs": [
    {
     "data": {
      "text/plain": [
       "(tensor([[0.9700],\n",
       "         [0.6872],\n",
       "         [0.2192]]),\n",
       " tensor([[0.6957],\n",
       "         [0.5838],\n",
       "         [0.7282]]))"
      ]
     },
     "execution_count": 61,
     "metadata": {},
     "output_type": "execute_result"
    }
   ],
   "source": [
    "b = torch.rand(3, 2)\n",
    "c, d=torch.chunk(b, chunks=2) # 张量分割\n",
    "c.shape\n",
    "d.shape\n",
    "torch.chunk(b, chunks=2, dim=1)"
   ]
  },
  {
   "cell_type": "code",
   "execution_count": 63,
   "id": "8b5d872a",
   "metadata": {},
   "outputs": [
    {
     "data": {
      "text/plain": [
       "tensor([[1, 1],\n",
       "        [4, 3]])"
      ]
     },
     "execution_count": 63,
     "metadata": {},
     "output_type": "execute_result"
    }
   ],
   "source": [
    "t = torch.tensor([[1, 2], [3, 4]])\n",
    "torch.gather(t, 1, torch.tensor([[0, 0],[1, 0]]))"
   ]
  },
  {
   "cell_type": "code",
   "execution_count": 65,
   "id": "677ea24a",
   "metadata": {},
   "outputs": [],
   "source": [
    "a = torch.rand([3,4])\n",
    "b = torch.reshape(a,(1, -1))"
   ]
  },
  {
   "cell_type": "code",
   "execution_count": 66,
   "id": "6d94316e",
   "metadata": {},
   "outputs": [
    {
     "data": {
      "text/plain": [
       "tensor([[0.9264, 0.8637, 0.2199, 0.3006, 0.4142, 0.7508, 0.7389, 0.3639, 0.5063,\n",
       "         0.4034, 0.5178, 0.3116]])"
      ]
     },
     "execution_count": 66,
     "metadata": {},
     "output_type": "execute_result"
    }
   ],
   "source": [
    "b"
   ]
  },
  {
   "cell_type": "code",
   "execution_count": 68,
   "id": "f0fd60a1",
   "metadata": {},
   "outputs": [],
   "source": [
    "b = torch.reshape(b, [3, 4])"
   ]
  },
  {
   "cell_type": "code",
   "execution_count": 69,
   "id": "cbda5edb",
   "metadata": {},
   "outputs": [
    {
     "data": {
      "text/plain": [
       "(tensor([[0.9264, 0.8637, 0.2199, 0.3006],\n",
       "         [0.4142, 0.7508, 0.7389, 0.3639]]),\n",
       " tensor([[0.5063, 0.4034, 0.5178, 0.3116]]))"
      ]
     },
     "execution_count": 69,
     "metadata": {},
     "output_type": "execute_result"
    }
   ],
   "source": [
    "torch.split(a, 2) # 分割tensor，传入每份的大小，chunk中传入分成几份"
   ]
  },
  {
   "cell_type": "code",
   "execution_count": 71,
   "id": "1e313f01",
   "metadata": {},
   "outputs": [
    {
     "data": {
      "text/plain": [
       "tensor([[0.7736, 0.3452],\n",
       "        [0.5321, 0.3085],\n",
       "        [0.9024, 0.4473]])"
      ]
     },
     "execution_count": 71,
     "metadata": {},
     "output_type": "execute_result"
    }
   ],
   "source": [
    "a = torch.rand([3, 2])\n",
    "torch.squeeze(torch.reshape(a, [3, 1, 2]), dim=1)"
   ]
  },
  {
   "cell_type": "code",
   "execution_count": 72,
   "id": "42d6aca6",
   "metadata": {},
   "outputs": [
    {
     "data": {
      "text/plain": [
       "tensor([[[0.1624, 0.7807],\n",
       "         [0.7851, 0.8601],\n",
       "         [0.0562, 0.1716]],\n",
       "\n",
       "        [[0.7667, 0.3382],\n",
       "         [0.8657, 0.3391],\n",
       "         [0.5209, 0.4025]]])"
      ]
     },
     "execution_count": 72,
     "metadata": {},
     "output_type": "execute_result"
    }
   ],
   "source": [
    "a = torch.rand([3, 2])\n",
    "b = torch.rand([3, 2])\n",
    "torch.stack((a, b)) # 在新的维度对多个张量进行连接"
   ]
  },
  {
   "cell_type": "code",
   "execution_count": 73,
   "id": "bba9473f",
   "metadata": {},
   "outputs": [
    {
     "data": {
      "text/plain": [
       "tensor([[[0.1624, 0.7807],\n",
       "         [0.7667, 0.3382]],\n",
       "\n",
       "        [[0.7851, 0.8601],\n",
       "         [0.8657, 0.3391]],\n",
       "\n",
       "        [[0.0562, 0.1716],\n",
       "         [0.5209, 0.4025]]])"
      ]
     },
     "execution_count": 73,
     "metadata": {},
     "output_type": "execute_result"
    }
   ],
   "source": [
    "torch.stack((a,b),dim=1)"
   ]
  },
  {
   "cell_type": "code",
   "execution_count": null,
   "id": "fd996e78",
   "metadata": {},
   "outputs": [],
   "source": []
  }
 ],
 "metadata": {
  "kernelspec": {
   "display_name": "Python [conda env:pytorch]",
   "language": "python",
   "name": "conda-env-pytorch-py"
  },
  "language_info": {
   "codemirror_mode": {
    "name": "ipython",
    "version": 3
   },
   "file_extension": ".py",
   "mimetype": "text/x-python",
   "name": "python",
   "nbconvert_exporter": "python",
   "pygments_lexer": "ipython3",
   "version": "3.8.12"
  }
 },
 "nbformat": 4,
 "nbformat_minor": 5
}
