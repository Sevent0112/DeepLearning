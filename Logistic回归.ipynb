{
 "cells": [
  {
   "cell_type": "code",
   "execution_count": 2,
   "id": "56c6b3d3",
   "metadata": {},
   "outputs": [],
   "source": [
    "import torch\n",
    "import numpy as np\n",
    "from torch import nn as nn\n",
    "from matplotlib import pyplot as plt\n",
    "%matplotlib inline"
   ]
  },
  {
   "cell_type": "code",
   "execution_count": 3,
   "id": "84296e46",
   "metadata": {},
   "outputs": [],
   "source": [
    "from torch.distributions import MultivariateNormal"
   ]
  },
  {
   "cell_type": "code",
   "execution_count": 4,
   "id": "4ddf7035",
   "metadata": {},
   "outputs": [],
   "source": [
    "# 设置两个搞死分布的均值向量和协方差矩阵\n",
    "mu1 = -3 * torch.ones(2)\n",
    "mu2 = 3 * torch.ones(2)\n",
    "sigma1 = torch.eye(2) * 0.5\n",
    "sigma2 = torch.eye(2) * 2"
   ]
  },
  {
   "cell_type": "code",
   "execution_count": 5,
   "id": "c2636f7b",
   "metadata": {},
   "outputs": [],
   "source": [
    "#从两个高斯分布中生成100个样本\n",
    "m1 = MultivariateNormal(mu1, sigma1)\n",
    "m2 = MultivariateNormal(mu2, sigma2)\n",
    "x1 = m1.sample((100,))\n",
    "x2 = m2.sample((100,))"
   ]
  },
  {
   "cell_type": "code",
   "execution_count": 6,
   "id": "ab06059a",
   "metadata": {},
   "outputs": [],
   "source": [
    "# 设置正负样本标签\n",
    "y = torch.zeros((200, 1))\n",
    "y[100:] = 1"
   ]
  },
  {
   "cell_type": "code",
   "execution_count": 7,
   "id": "3bf300fd",
   "metadata": {},
   "outputs": [
    {
     "data": {
      "text/plain": [
       "tensor([[0.],\n",
       "        [0.],\n",
       "        [0.],\n",
       "        [0.],\n",
       "        [0.],\n",
       "        [0.],\n",
       "        [0.],\n",
       "        [0.],\n",
       "        [0.],\n",
       "        [0.],\n",
       "        [0.],\n",
       "        [0.],\n",
       "        [0.],\n",
       "        [0.],\n",
       "        [0.],\n",
       "        [0.],\n",
       "        [0.],\n",
       "        [0.],\n",
       "        [0.],\n",
       "        [0.],\n",
       "        [0.],\n",
       "        [0.],\n",
       "        [0.],\n",
       "        [0.],\n",
       "        [0.],\n",
       "        [0.],\n",
       "        [0.],\n",
       "        [0.],\n",
       "        [0.],\n",
       "        [0.],\n",
       "        [0.],\n",
       "        [0.],\n",
       "        [0.],\n",
       "        [0.],\n",
       "        [0.],\n",
       "        [0.],\n",
       "        [0.],\n",
       "        [0.],\n",
       "        [0.],\n",
       "        [0.],\n",
       "        [0.],\n",
       "        [0.],\n",
       "        [0.],\n",
       "        [0.],\n",
       "        [0.],\n",
       "        [0.],\n",
       "        [0.],\n",
       "        [0.],\n",
       "        [0.],\n",
       "        [0.],\n",
       "        [0.],\n",
       "        [0.],\n",
       "        [0.],\n",
       "        [0.],\n",
       "        [0.],\n",
       "        [0.],\n",
       "        [0.],\n",
       "        [0.],\n",
       "        [0.],\n",
       "        [0.],\n",
       "        [0.],\n",
       "        [0.],\n",
       "        [0.],\n",
       "        [0.],\n",
       "        [0.],\n",
       "        [0.],\n",
       "        [0.],\n",
       "        [0.],\n",
       "        [0.],\n",
       "        [0.],\n",
       "        [0.],\n",
       "        [0.],\n",
       "        [0.],\n",
       "        [0.],\n",
       "        [0.],\n",
       "        [0.],\n",
       "        [0.],\n",
       "        [0.],\n",
       "        [0.],\n",
       "        [0.],\n",
       "        [0.],\n",
       "        [0.],\n",
       "        [0.],\n",
       "        [0.],\n",
       "        [0.],\n",
       "        [0.],\n",
       "        [0.],\n",
       "        [0.],\n",
       "        [0.],\n",
       "        [0.],\n",
       "        [0.],\n",
       "        [0.],\n",
       "        [0.],\n",
       "        [0.],\n",
       "        [0.],\n",
       "        [0.],\n",
       "        [0.],\n",
       "        [0.],\n",
       "        [0.],\n",
       "        [0.],\n",
       "        [1.],\n",
       "        [1.],\n",
       "        [1.],\n",
       "        [1.],\n",
       "        [1.],\n",
       "        [1.],\n",
       "        [1.],\n",
       "        [1.],\n",
       "        [1.],\n",
       "        [1.],\n",
       "        [1.],\n",
       "        [1.],\n",
       "        [1.],\n",
       "        [1.],\n",
       "        [1.],\n",
       "        [1.],\n",
       "        [1.],\n",
       "        [1.],\n",
       "        [1.],\n",
       "        [1.],\n",
       "        [1.],\n",
       "        [1.],\n",
       "        [1.],\n",
       "        [1.],\n",
       "        [1.],\n",
       "        [1.],\n",
       "        [1.],\n",
       "        [1.],\n",
       "        [1.],\n",
       "        [1.],\n",
       "        [1.],\n",
       "        [1.],\n",
       "        [1.],\n",
       "        [1.],\n",
       "        [1.],\n",
       "        [1.],\n",
       "        [1.],\n",
       "        [1.],\n",
       "        [1.],\n",
       "        [1.],\n",
       "        [1.],\n",
       "        [1.],\n",
       "        [1.],\n",
       "        [1.],\n",
       "        [1.],\n",
       "        [1.],\n",
       "        [1.],\n",
       "        [1.],\n",
       "        [1.],\n",
       "        [1.],\n",
       "        [1.],\n",
       "        [1.],\n",
       "        [1.],\n",
       "        [1.],\n",
       "        [1.],\n",
       "        [1.],\n",
       "        [1.],\n",
       "        [1.],\n",
       "        [1.],\n",
       "        [1.],\n",
       "        [1.],\n",
       "        [1.],\n",
       "        [1.],\n",
       "        [1.],\n",
       "        [1.],\n",
       "        [1.],\n",
       "        [1.],\n",
       "        [1.],\n",
       "        [1.],\n",
       "        [1.],\n",
       "        [1.],\n",
       "        [1.],\n",
       "        [1.],\n",
       "        [1.],\n",
       "        [1.],\n",
       "        [1.],\n",
       "        [1.],\n",
       "        [1.],\n",
       "        [1.],\n",
       "        [1.],\n",
       "        [1.],\n",
       "        [1.],\n",
       "        [1.],\n",
       "        [1.],\n",
       "        [1.],\n",
       "        [1.],\n",
       "        [1.],\n",
       "        [1.],\n",
       "        [1.],\n",
       "        [1.],\n",
       "        [1.],\n",
       "        [1.],\n",
       "        [1.],\n",
       "        [1.],\n",
       "        [1.],\n",
       "        [1.],\n",
       "        [1.],\n",
       "        [1.],\n",
       "        [1.],\n",
       "        [1.]])"
      ]
     },
     "execution_count": 7,
     "metadata": {},
     "output_type": "execute_result"
    }
   ],
   "source": [
    "y"
   ]
  },
  {
   "cell_type": "code",
   "execution_count": 8,
   "id": "dcd40956",
   "metadata": {},
   "outputs": [
    {
     "data": {
      "text/plain": [
       "tensor([[-3.0115, -3.1570],\n",
       "        [-3.2820, -2.8199],\n",
       "        [-3.8903, -3.3757],\n",
       "        [-3.5954, -3.6728],\n",
       "        [-3.0373, -2.4311],\n",
       "        [-4.0770, -3.4652],\n",
       "        [-4.9680, -3.0805],\n",
       "        [-3.0581, -2.5522],\n",
       "        [-2.1052, -2.5181],\n",
       "        [-3.2832, -4.0490],\n",
       "        [-2.8205, -2.2023],\n",
       "        [-2.6481, -3.2150],\n",
       "        [-1.8242, -3.3092],\n",
       "        [-3.1377, -2.7964],\n",
       "        [-3.3494, -2.4842],\n",
       "        [-2.6674, -3.9983],\n",
       "        [-1.5724, -3.6368],\n",
       "        [-1.6344, -2.8280],\n",
       "        [-2.6693, -2.2826],\n",
       "        [-2.5270, -2.9974],\n",
       "        [-2.9173, -3.7954],\n",
       "        [-3.1353, -3.5000],\n",
       "        [-3.0166, -3.5602],\n",
       "        [-3.6304, -3.1784],\n",
       "        [-3.3202, -2.8054],\n",
       "        [-4.1408, -2.3817],\n",
       "        [-4.3310, -2.8913],\n",
       "        [-2.4397, -2.8110],\n",
       "        [-3.3863, -3.3508],\n",
       "        [-3.3795, -3.1261],\n",
       "        [-3.0965, -2.7804],\n",
       "        [-2.3511, -2.5174],\n",
       "        [-3.1759, -2.8327],\n",
       "        [-4.1488, -2.9681],\n",
       "        [-4.4632, -2.5089],\n",
       "        [-1.8075, -2.9539],\n",
       "        [-1.9579, -2.6618],\n",
       "        [-2.9052, -2.8029],\n",
       "        [-2.7137, -4.1829],\n",
       "        [-3.2649, -3.5740],\n",
       "        [-2.6562, -3.0795],\n",
       "        [-2.7552, -2.8266],\n",
       "        [-2.6923, -3.8927],\n",
       "        [-3.3781, -3.1923],\n",
       "        [-2.2110, -2.5676],\n",
       "        [-3.4426, -3.3392],\n",
       "        [-3.2498, -3.0312],\n",
       "        [-3.7942, -2.8501],\n",
       "        [-3.0667, -3.3625],\n",
       "        [-3.9355, -2.7011],\n",
       "        [-2.6108, -1.6091],\n",
       "        [-3.2508, -2.5085],\n",
       "        [-3.6282, -3.2638],\n",
       "        [-2.9067, -2.1558],\n",
       "        [-3.5025, -3.9931],\n",
       "        [-3.4889, -1.9601],\n",
       "        [-2.5887, -3.0295],\n",
       "        [-1.4233, -3.4575],\n",
       "        [-1.2767, -3.6070],\n",
       "        [-3.4149, -3.0221],\n",
       "        [-3.9565, -2.3051],\n",
       "        [-3.7744, -1.8102],\n",
       "        [-3.1261, -2.5513],\n",
       "        [-3.7817, -3.9211],\n",
       "        [-1.6308, -3.3893],\n",
       "        [-3.4385, -3.4890],\n",
       "        [-2.3452, -1.7334],\n",
       "        [-4.0108, -3.9122],\n",
       "        [-3.8260, -4.0340],\n",
       "        [-3.4316, -2.6428],\n",
       "        [-2.9449, -2.2744],\n",
       "        [-2.4843, -1.9277],\n",
       "        [-2.4527, -3.4369],\n",
       "        [-3.4903, -3.1248],\n",
       "        [-3.4107, -3.4880],\n",
       "        [-2.4526, -2.9562],\n",
       "        [-2.4776, -3.6105],\n",
       "        [-2.7625, -2.3699],\n",
       "        [-2.6516, -2.9034],\n",
       "        [-3.7068, -3.0254],\n",
       "        [-4.0545, -3.0142],\n",
       "        [-2.8229, -3.7068],\n",
       "        [-4.3138, -3.4668],\n",
       "        [-2.1776, -3.8684],\n",
       "        [-2.6708, -1.6413],\n",
       "        [-3.1306, -2.9849],\n",
       "        [-3.0565, -3.2854],\n",
       "        [-2.1044, -2.3544],\n",
       "        [-3.1285, -3.8302],\n",
       "        [-2.4687, -2.7134],\n",
       "        [-2.4429, -4.7026],\n",
       "        [-3.1149, -2.7897],\n",
       "        [-3.9934, -2.7519],\n",
       "        [-1.8809, -4.0970],\n",
       "        [-3.1223, -1.6871],\n",
       "        [-2.4840, -2.1918],\n",
       "        [-2.9922, -2.6233],\n",
       "        [-4.0465, -2.3086],\n",
       "        [-3.2995, -2.5624],\n",
       "        [-2.6247, -3.1652]])"
      ]
     },
     "execution_count": 8,
     "metadata": {},
     "output_type": "execute_result"
    }
   ],
   "source": [
    "x1"
   ]
  },
  {
   "cell_type": "code",
   "execution_count": 9,
   "id": "f51b4c27",
   "metadata": {},
   "outputs": [],
   "source": [
    "# 组合打乱序号\n",
    "x = torch.cat([x1, x2], dim=0)\n",
    "idx = np.random.permutation(len(x))"
   ]
  },
  {
   "cell_type": "code",
   "execution_count": 10,
   "id": "0b25135e",
   "metadata": {},
   "outputs": [],
   "source": [
    "x = x[idx]\n",
    "y = y[idx]"
   ]
  },
  {
   "cell_type": "code",
   "execution_count": 11,
   "id": "2bad019d",
   "metadata": {},
   "outputs": [
    {
     "data": {
      "text/plain": [
       "<matplotlib.collections.PathCollection at 0x20887ddf220>"
      ]
     },
     "execution_count": 11,
     "metadata": {},
     "output_type": "execute_result"
    },
    {
     "data": {
      "image/png": "[encoded data removed]",
      "text/plain": [
       "<Figure size 432x288 with 1 Axes>"
      ]
     },
     "metadata": {
      "needs_background": "light"
     },
     "output_type": "display_data"
    }
   ],
   "source": [
    "# 绘制样本\n",
    "plt.scatter(x1.numpy()[:,0], x1.numpy()[:,1])\n",
    "plt.scatter(x2.numpy()[:,0], x2.numpy()[:,1])"
   ]
  },
  {
   "cell_type": "code",
   "execution_count": 12,
   "id": "340414e6",
   "metadata": {},
   "outputs": [
    {
     "data": {
      "text/plain": [
       "array([-3.0115252, -3.282004 , -3.8903055, -3.5953846, -3.0373063,\n",
       "       -4.076957 , -4.967968 , -3.0580838, -2.1052058, -3.283248 ,\n",
       "       -2.820468 , -2.6480732, -1.8242047, -3.1376505, -3.3493564,\n",
       "       -2.66743  , -1.5723529, -1.6343554, -2.6693363, -2.5269845,\n",
       "       -2.9173245, -3.1353152, -3.0165734, -3.630431 , -3.3201637,\n",
       "       -4.1407948, -4.3309817, -2.4396675, -3.386319 , -3.3794596,\n",
       "       -3.096474 , -2.3510687, -3.1758747, -4.148795 , -4.463201 ,\n",
       "       -1.8075016, -1.9578651, -2.9052496, -2.7136679, -3.264892 ,\n",
       "       -2.6562476, -2.755227 , -2.692284 , -3.3780916, -2.2110415,\n",
       "       -3.4425743, -3.2498388, -3.7941647, -3.0667052, -3.9354556,\n",
       "       -2.610805 , -3.250779 , -3.6281624, -2.9066827, -3.5025153,\n",
       "       -3.4889295, -2.588691 , -1.4232707, -1.276681 , -3.4148984,\n",
       "       -3.9565115, -3.7743635, -3.1261268, -3.7816794, -1.6307658,\n",
       "       -3.438511 , -2.3452134, -4.0107985, -3.825966 , -3.4315996,\n",
       "       -2.9449074, -2.484326 , -2.4527483, -3.490333 , -3.4107015,\n",
       "       -2.4525814, -2.4775665, -2.7625113, -2.651563 , -3.7068014,\n",
       "       -4.05453  , -2.8228927, -4.3137956, -2.1775672, -2.6708267,\n",
       "       -3.1306129, -3.0565379, -2.1043746, -3.1284878, -2.4687138,\n",
       "       -2.4428744, -3.1148918, -3.9933925, -1.8809196, -3.1223223,\n",
       "       -2.4840057, -2.99216  , -4.046461 , -3.299501 , -2.6247134],\n",
       "      dtype=float32)"
      ]
     },
     "execution_count": 12,
     "metadata": {},
     "output_type": "execute_result"
    }
   ],
   "source": [
    "x1.numpy()[:,0]"
   ]
  },
  {
   "cell_type": "code",
   "execution_count": 16,
   "id": "337b725d",
   "metadata": {},
   "outputs": [
    {
     "data": {
      "text/plain": [
       "tensor(0.1338, grad_fn=<MseLossBackward0>)"
      ]
     },
     "execution_count": 16,
     "metadata": {},
     "output_type": "execute_result"
    }
   ],
   "source": [
    "class LogisticRegression(nn.Module):\n",
    "    def __init__(self, D_in):\n",
    "        super(LogisticRegression, self).__init__()\n",
    "        self.liner = nn.Linear(D_in, 1)\n",
    "        self.sigmoid = nn.Sigmoid()\n",
    "        \n",
    "    def forward(self, x):\n",
    "        x = self.liner(x)\n",
    "        output = self.sigmoid(x)\n",
    "        return output\n",
    "    \n",
    "lr_model = LogisticRegression(2)\n",
    "loss = nn.MSELoss()\n",
    "loss(lr_model(x), y)\n",
    "        "
   ]
  },
  {
   "cell_type": "code",
   "execution_count": 17,
   "id": "20a6a065",
   "metadata": {},
   "outputs": [],
   "source": [
    "from torch import optim\n",
    "optimizer = optim.SGD(lr_model.parameters(), lr=0.03)"
   ]
  },
  {
   "cell_type": "code",
   "execution_count": 19,
   "id": "e4d61abf",
   "metadata": {},
   "outputs": [],
   "source": [
    "batch_size = 10\n",
    "iters = 10\n",
    "for _ in range(iters):\n",
    "    for i in range(int(len(x)/batch_size)):\n",
    "        input = x[i * batch_size : ((i+1) * batch_size)]\n",
    "        target = y[i * batch_size : ((i+1) * batch_size)] \n",
    "        optimizer.zero_grad()\n",
    "        output = lr_model(input)\n",
    "        l = loss(output, target)\n",
    "        l.backward()\n",
    "        optimizer.step()"
   ]
  },
  {
   "cell_type": "code",
   "execution_count": 20,
   "id": "302ec1fb",
   "metadata": {},
   "outputs": [
    {
     "ename": "IndexError",
     "evalue": "The shape of the mask [10] at index 0 does not match the shape of the indexed tensor [200] at index 0",
     "output_type": "error",
     "traceback": [
      "\u001b[1;31m---------------------------------------------------------------------------\u001b[0m",
      "\u001b[1;31mIndexError\u001b[0m                                Traceback (most recent call last)",
      "\u001b[1;32m~\\AppData\\Local\\Temp/ipykernel_18620/1869111240.py\u001b[0m in \u001b[0;36m<module>\u001b[1;34m\u001b[0m\n\u001b[0;32m      1\u001b[0m \u001b[0mpred_neg\u001b[0m \u001b[1;33m=\u001b[0m \u001b[1;33m(\u001b[0m\u001b[0moutput\u001b[0m \u001b[1;33m<=\u001b[0m \u001b[1;36m0.5\u001b[0m\u001b[1;33m)\u001b[0m\u001b[1;33m.\u001b[0m\u001b[0mview\u001b[0m\u001b[1;33m(\u001b[0m\u001b[1;33m-\u001b[0m\u001b[1;36m1\u001b[0m\u001b[1;33m)\u001b[0m\u001b[1;33m\u001b[0m\u001b[1;33m\u001b[0m\u001b[0m\n\u001b[0;32m      2\u001b[0m \u001b[0mpred_pos\u001b[0m \u001b[1;33m=\u001b[0m \u001b[1;33m(\u001b[0m\u001b[0moutput\u001b[0m \u001b[1;33m>\u001b[0m \u001b[1;36m0.5\u001b[0m\u001b[1;33m)\u001b[0m\u001b[1;33m.\u001b[0m\u001b[0mview\u001b[0m\u001b[1;33m(\u001b[0m\u001b[1;33m-\u001b[0m\u001b[1;36m1\u001b[0m\u001b[1;33m)\u001b[0m\u001b[1;33m\u001b[0m\u001b[1;33m\u001b[0m\u001b[0m\n\u001b[1;32m----> 3\u001b[1;33m \u001b[0mplt\u001b[0m\u001b[1;33m.\u001b[0m\u001b[0mscatter\u001b[0m\u001b[1;33m(\u001b[0m\u001b[0mx\u001b[0m\u001b[1;33m[\u001b[0m\u001b[0mpred_neg\u001b[0m\u001b[1;33m,\u001b[0m\u001b[1;36m0\u001b[0m\u001b[1;33m]\u001b[0m\u001b[1;33m,\u001b[0m \u001b[0mx\u001b[0m\u001b[1;33m[\u001b[0m\u001b[0mpred_neg\u001b[0m\u001b[1;33m,\u001b[0m\u001b[1;36m1\u001b[0m\u001b[1;33m]\u001b[0m\u001b[1;33m)\u001b[0m\u001b[1;33m\u001b[0m\u001b[1;33m\u001b[0m\u001b[0m\n\u001b[0m\u001b[0;32m      4\u001b[0m \u001b[0mplt\u001b[0m\u001b[1;33m.\u001b[0m\u001b[0mscatter\u001b[0m\u001b[1;33m(\u001b[0m\u001b[0mx\u001b[0m\u001b[1;33m[\u001b[0m\u001b[0mpred_pos\u001b[0m\u001b[1;33m,\u001b[0m\u001b[1;36m0\u001b[0m\u001b[1;33m]\u001b[0m\u001b[1;33m,\u001b[0m \u001b[0mx\u001b[0m\u001b[1;33m[\u001b[0m\u001b[0mpred_pos\u001b[0m\u001b[1;33m,\u001b[0m\u001b[1;36m1\u001b[0m\u001b[1;33m]\u001b[0m\u001b[1;33m)\u001b[0m\u001b[1;33m\u001b[0m\u001b[1;33m\u001b[0m\u001b[0m\n",
      "\u001b[1;31mIndexError\u001b[0m: The shape of the mask [10] at index 0 does not match the shape of the indexed tensor [200] at index 0"
     ]
    }
   ],
   "source": [
    "pred_neg = (output <= 0.5).view(-1)\n",
    "pred_pos = (output > 0.5).view(-1)\n",
    "plt.scatter(x[pred_neg,0], x[pred_neg,1])\n",
    "plt.scatter(x[pred_pos,0], x[pred_pos,1])"
   ]
  },
  {
   "cell_type": "code",
   "execution_count": null,
   "id": "46dfdcc9",
   "metadata": {},
   "outputs": [],
   "source": []
  }
 ],
 "metadata": {
  "kernelspec": {
   "display_name": "Python [conda env:pytorch]",
   "language": "python",
   "name": "conda-env-pytorch-py"
  },
  "language_info": {
   "codemirror_mode": {
    "name": "ipython",
    "version": 3
   },
   "file_extension": ".py",
   "mimetype": "text/x-python",
   "name": "python",
   "nbconvert_exporter": "python",
   "pygments_lexer": "ipython3",
   "version": "3.8.12"
  }
 },
 "nbformat": 4,
 "nbformat_minor": 5
}
